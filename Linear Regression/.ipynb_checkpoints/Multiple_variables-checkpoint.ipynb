{
 "cells": [
  {
   "cell_type": "code",
   "execution_count": 1,
   "id": "f3a05b5f-5dd1-40f8-8565-19301ef27f2a",
   "metadata": {},
   "outputs": [],
   "source": [
    "import matplotlib.pyplot as plt\n",
    "import pandas as pd\n",
    "from sklearn.linear_model import LinearRegression\n",
    "import os"
   ]
  },
  {
   "cell_type": "code",
   "execution_count": 2,
   "id": "6ac44dc0-33de-434d-810b-4ac59e3041cc",
   "metadata": {},
   "outputs": [
    {
     "data": {
      "text/plain": [
       "['.ipynb_checkpoints',\n",
       " 'car data.csv',\n",
       " 'car data_1.csv',\n",
       " 'Linear Regression.ipynb',\n",
       " 'Linear_two.ipynb',\n",
       " 'marital status.csv',\n",
       " 'Multiple_variables.ipynb',\n",
       " 'nasdaq100.csv',\n",
       " 'Salary Data.csv',\n",
       " 'Salary Prediction.ipynb']"
      ]
     },
     "execution_count": 2,
     "metadata": {},
     "output_type": "execute_result"
    }
   ],
   "source": [
    "os.listdir()"
   ]
  },
  {
   "cell_type": "code",
   "execution_count": 3,
   "id": "e27746f6-b45d-4022-8d0a-34c671d98158",
   "metadata": {},
   "outputs": [
    {
     "data": {
      "text/html": [
       "<div>\n",
       "<style scoped>\n",
       "    .dataframe tbody tr th:only-of-type {\n",
       "        vertical-align: middle;\n",
       "    }\n",
       "\n",
       "    .dataframe tbody tr th {\n",
       "        vertical-align: top;\n",
       "    }\n",
       "\n",
       "    .dataframe thead th {\n",
       "        text-align: right;\n",
       "    }\n",
       "</style>\n",
       "<table border=\"1\" class=\"dataframe\">\n",
       "  <thead>\n",
       "    <tr style=\"text-align: right;\">\n",
       "      <th></th>\n",
       "      <th>speed</th>\n",
       "      <th>car_age</th>\n",
       "      <th>experience</th>\n",
       "      <th>risk</th>\n",
       "    </tr>\n",
       "  </thead>\n",
       "  <tbody>\n",
       "    <tr>\n",
       "      <th>0</th>\n",
       "      <td>172</td>\n",
       "      <td>22.0</td>\n",
       "      <td>8.104042</td>\n",
       "      <td>42</td>\n",
       "    </tr>\n",
       "    <tr>\n",
       "      <th>1</th>\n",
       "      <td>94</td>\n",
       "      <td>17.0</td>\n",
       "      <td>NaN</td>\n",
       "      <td>36</td>\n",
       "    </tr>\n",
       "    <tr>\n",
       "      <th>2</th>\n",
       "      <td>186</td>\n",
       "      <td>NaN</td>\n",
       "      <td>14.819477</td>\n",
       "      <td>45</td>\n",
       "    </tr>\n",
       "    <tr>\n",
       "      <th>3</th>\n",
       "      <td>151</td>\n",
       "      <td>10.0</td>\n",
       "      <td>NaN</td>\n",
       "      <td>38</td>\n",
       "    </tr>\n",
       "    <tr>\n",
       "      <th>4</th>\n",
       "      <td>100</td>\n",
       "      <td>6.0</td>\n",
       "      <td>16.455807</td>\n",
       "      <td>47</td>\n",
       "    </tr>\n",
       "    <tr>\n",
       "      <th>5</th>\n",
       "      <td>182</td>\n",
       "      <td>15.0</td>\n",
       "      <td>NaN</td>\n",
       "      <td>66</td>\n",
       "    </tr>\n",
       "    <tr>\n",
       "      <th>6</th>\n",
       "      <td>154</td>\n",
       "      <td>NaN</td>\n",
       "      <td>4.750129</td>\n",
       "      <td>64</td>\n",
       "    </tr>\n",
       "    <tr>\n",
       "      <th>7</th>\n",
       "      <td>167</td>\n",
       "      <td>28.0</td>\n",
       "      <td>8.004458</td>\n",
       "      <td>42</td>\n",
       "    </tr>\n",
       "    <tr>\n",
       "      <th>8</th>\n",
       "      <td>196</td>\n",
       "      <td>5.0</td>\n",
       "      <td>NaN</td>\n",
       "      <td>39</td>\n",
       "    </tr>\n",
       "    <tr>\n",
       "      <th>9</th>\n",
       "      <td>179</td>\n",
       "      <td>1.0</td>\n",
       "      <td>1.657826</td>\n",
       "      <td>95</td>\n",
       "    </tr>\n",
       "    <tr>\n",
       "      <th>10</th>\n",
       "      <td>183</td>\n",
       "      <td>8.0</td>\n",
       "      <td>10.567402</td>\n",
       "      <td>75</td>\n",
       "    </tr>\n",
       "    <tr>\n",
       "      <th>11</th>\n",
       "      <td>210</td>\n",
       "      <td>21.0</td>\n",
       "      <td>8.726717</td>\n",
       "      <td>19</td>\n",
       "    </tr>\n",
       "    <tr>\n",
       "      <th>12</th>\n",
       "      <td>132</td>\n",
       "      <td>NaN</td>\n",
       "      <td>16.042185</td>\n",
       "      <td>42</td>\n",
       "    </tr>\n",
       "    <tr>\n",
       "      <th>13</th>\n",
       "      <td>81</td>\n",
       "      <td>12.0</td>\n",
       "      <td>19.558013</td>\n",
       "      <td>83</td>\n",
       "    </tr>\n",
       "    <tr>\n",
       "      <th>14</th>\n",
       "      <td>167</td>\n",
       "      <td>12.0</td>\n",
       "      <td>11.120101</td>\n",
       "      <td>47</td>\n",
       "    </tr>\n",
       "  </tbody>\n",
       "</table>\n",
       "</div>"
      ],
      "text/plain": [
       "    speed  car_age  experience  risk\n",
       "0     172     22.0    8.104042    42\n",
       "1      94     17.0         NaN    36\n",
       "2     186      NaN   14.819477    45\n",
       "3     151     10.0         NaN    38\n",
       "4     100      6.0   16.455807    47\n",
       "5     182     15.0         NaN    66\n",
       "6     154      NaN    4.750129    64\n",
       "7     167     28.0    8.004458    42\n",
       "8     196      5.0         NaN    39\n",
       "9     179      1.0    1.657826    95\n",
       "10    183      8.0   10.567402    75\n",
       "11    210     21.0    8.726717    19\n",
       "12    132      NaN   16.042185    42\n",
       "13     81     12.0   19.558013    83\n",
       "14    167     12.0   11.120101    47"
      ]
     },
     "execution_count": 3,
     "metadata": {},
     "output_type": "execute_result"
    }
   ],
   "source": [
    "df=pd.read_csv('car data.csv')\n",
    "df"
   ]
  },
  {
   "cell_type": "code",
   "execution_count": 4,
   "id": "e0d1ce53-02d6-4d85-ae3b-a80b7cd8becd",
   "metadata": {},
   "outputs": [
    {
     "data": {
      "text/plain": [
       "speed         0\n",
       "car_age       3\n",
       "experience    4\n",
       "risk          0\n",
       "dtype: int64"
      ]
     },
     "execution_count": 4,
     "metadata": {},
     "output_type": "execute_result"
    }
   ],
   "source": [
    "#null value check\n",
    "df.isnull().sum()"
   ]
  },
  {
   "cell_type": "markdown",
   "id": "99ae5f28-2e83-48e8-aef8-66f6012a237f",
   "metadata": {},
   "source": [
    "### We have fill up the NaN value by that group's meadian or mean Value.."
   ]
  },
  {
   "cell_type": "code",
   "execution_count": 5,
   "id": "6eb7d04e-c507-49c8-9d51-80474968992f",
   "metadata": {},
   "outputs": [
    {
     "data": {
      "text/plain": [
       "0     22.0\n",
       "1     17.0\n",
       "2      NaN\n",
       "3     10.0\n",
       "4      6.0\n",
       "5     15.0\n",
       "6      NaN\n",
       "7     28.0\n",
       "8      5.0\n",
       "9      1.0\n",
       "10     8.0\n",
       "11    21.0\n",
       "12     NaN\n",
       "13    12.0\n",
       "14    12.0\n",
       "Name: car_age, dtype: float64"
      ]
     },
     "execution_count": 5,
     "metadata": {},
     "output_type": "execute_result"
    }
   ],
   "source": [
    "df.car_age"
   ]
  },
  {
   "cell_type": "code",
   "execution_count": 6,
   "id": "a6df11d7-1caa-4ab4-a8cf-9bca12a64a94",
   "metadata": {},
   "outputs": [],
   "source": [
    "#meadin\n",
    "car_null=df.car_age.median()\n"
   ]
  },
  {
   "cell_type": "code",
   "execution_count": 7,
   "id": "475fea0e-2a4e-4efe-9a7a-7d67b01d1c20",
   "metadata": {},
   "outputs": [
    {
     "data": {
      "text/plain": [
       "np.float64(12.0)"
      ]
     },
     "execution_count": 7,
     "metadata": {},
     "output_type": "execute_result"
    }
   ],
   "source": [
    "car_null"
   ]
  },
  {
   "cell_type": "code",
   "execution_count": 12,
   "id": "56eafee7-c009-4c1c-ba54-d78416f92f34",
   "metadata": {},
   "outputs": [
    {
     "data": {
      "text/plain": [
       "0     22.0\n",
       "1     17.0\n",
       "2     12.0\n",
       "3     10.0\n",
       "4      6.0\n",
       "5     15.0\n",
       "6     12.0\n",
       "7     28.0\n",
       "8      5.0\n",
       "9      1.0\n",
       "10     8.0\n",
       "11    21.0\n",
       "12    12.0\n",
       "13    12.0\n",
       "14    12.0\n",
       "Name: car_age, dtype: float64"
      ]
     },
     "execution_count": 12,
     "metadata": {},
     "output_type": "execute_result"
    }
   ],
   "source": [
    "## NaN value fillup\n",
    "df.car_age=df.car_age.fillna(car_null)\n",
    "df.car_age"
   ]
  },
  {
   "cell_type": "code",
   "execution_count": 9,
   "id": "649fa8c0-fd27-4ebf-9b00-4dccaff2cd31",
   "metadata": {},
   "outputs": [
    {
     "data": {
      "text/plain": [
       "np.float64(10.56740243)"
      ]
     },
     "execution_count": 9,
     "metadata": {},
     "output_type": "execute_result"
    }
   ],
   "source": [
    "###for experence and risk column\n",
    "\n",
    "#experience\n",
    "experience_null=df.experience.median()\n",
    "experience_null"
   ]
  },
  {
   "cell_type": "code",
   "execution_count": 13,
   "id": "78123328-a6c8-418c-a3af-d469ac630cbb",
   "metadata": {},
   "outputs": [
    {
     "data": {
      "text/plain": [
       "0      8.104042\n",
       "1     10.567402\n",
       "2     14.819477\n",
       "3     10.567402\n",
       "4     16.455807\n",
       "5     10.567402\n",
       "6      4.750129\n",
       "7      8.004458\n",
       "8     10.567402\n",
       "9      1.657826\n",
       "10    10.567402\n",
       "11     8.726717\n",
       "12    16.042185\n",
       "13    19.558013\n",
       "14    11.120101\n",
       "Name: experience, dtype: float64"
      ]
     },
     "execution_count": 13,
     "metadata": {},
     "output_type": "execute_result"
    }
   ],
   "source": [
    "df.experience=df.experience.fillna(experience_null)\n",
    "df.experience"
   ]
  },
  {
   "cell_type": "code",
   "execution_count": 15,
   "id": "0ffccd6d-b30e-4566-809e-4c161a0b3ff9",
   "metadata": {},
   "outputs": [
    {
     "data": {
      "text/html": [
       "<div>\n",
       "<style scoped>\n",
       "    .dataframe tbody tr th:only-of-type {\n",
       "        vertical-align: middle;\n",
       "    }\n",
       "\n",
       "    .dataframe tbody tr th {\n",
       "        vertical-align: top;\n",
       "    }\n",
       "\n",
       "    .dataframe thead th {\n",
       "        text-align: right;\n",
       "    }\n",
       "</style>\n",
       "<table border=\"1\" class=\"dataframe\">\n",
       "  <thead>\n",
       "    <tr style=\"text-align: right;\">\n",
       "      <th></th>\n",
       "      <th>speed</th>\n",
       "      <th>car_age</th>\n",
       "      <th>experience</th>\n",
       "      <th>risk</th>\n",
       "    </tr>\n",
       "  </thead>\n",
       "  <tbody>\n",
       "    <tr>\n",
       "      <th>0</th>\n",
       "      <td>172</td>\n",
       "      <td>22.0</td>\n",
       "      <td>8.104042</td>\n",
       "      <td>42</td>\n",
       "    </tr>\n",
       "    <tr>\n",
       "      <th>1</th>\n",
       "      <td>94</td>\n",
       "      <td>17.0</td>\n",
       "      <td>10.567402</td>\n",
       "      <td>36</td>\n",
       "    </tr>\n",
       "    <tr>\n",
       "      <th>2</th>\n",
       "      <td>186</td>\n",
       "      <td>12.0</td>\n",
       "      <td>14.819477</td>\n",
       "      <td>45</td>\n",
       "    </tr>\n",
       "    <tr>\n",
       "      <th>3</th>\n",
       "      <td>151</td>\n",
       "      <td>10.0</td>\n",
       "      <td>10.567402</td>\n",
       "      <td>38</td>\n",
       "    </tr>\n",
       "    <tr>\n",
       "      <th>4</th>\n",
       "      <td>100</td>\n",
       "      <td>6.0</td>\n",
       "      <td>16.455807</td>\n",
       "      <td>47</td>\n",
       "    </tr>\n",
       "    <tr>\n",
       "      <th>5</th>\n",
       "      <td>182</td>\n",
       "      <td>15.0</td>\n",
       "      <td>10.567402</td>\n",
       "      <td>66</td>\n",
       "    </tr>\n",
       "    <tr>\n",
       "      <th>6</th>\n",
       "      <td>154</td>\n",
       "      <td>12.0</td>\n",
       "      <td>4.750129</td>\n",
       "      <td>64</td>\n",
       "    </tr>\n",
       "    <tr>\n",
       "      <th>7</th>\n",
       "      <td>167</td>\n",
       "      <td>28.0</td>\n",
       "      <td>8.004458</td>\n",
       "      <td>42</td>\n",
       "    </tr>\n",
       "    <tr>\n",
       "      <th>8</th>\n",
       "      <td>196</td>\n",
       "      <td>5.0</td>\n",
       "      <td>10.567402</td>\n",
       "      <td>39</td>\n",
       "    </tr>\n",
       "    <tr>\n",
       "      <th>9</th>\n",
       "      <td>179</td>\n",
       "      <td>1.0</td>\n",
       "      <td>1.657826</td>\n",
       "      <td>95</td>\n",
       "    </tr>\n",
       "    <tr>\n",
       "      <th>10</th>\n",
       "      <td>183</td>\n",
       "      <td>8.0</td>\n",
       "      <td>10.567402</td>\n",
       "      <td>75</td>\n",
       "    </tr>\n",
       "    <tr>\n",
       "      <th>11</th>\n",
       "      <td>210</td>\n",
       "      <td>21.0</td>\n",
       "      <td>8.726717</td>\n",
       "      <td>19</td>\n",
       "    </tr>\n",
       "    <tr>\n",
       "      <th>12</th>\n",
       "      <td>132</td>\n",
       "      <td>12.0</td>\n",
       "      <td>16.042185</td>\n",
       "      <td>42</td>\n",
       "    </tr>\n",
       "    <tr>\n",
       "      <th>13</th>\n",
       "      <td>81</td>\n",
       "      <td>12.0</td>\n",
       "      <td>19.558013</td>\n",
       "      <td>83</td>\n",
       "    </tr>\n",
       "    <tr>\n",
       "      <th>14</th>\n",
       "      <td>167</td>\n",
       "      <td>12.0</td>\n",
       "      <td>11.120101</td>\n",
       "      <td>47</td>\n",
       "    </tr>\n",
       "  </tbody>\n",
       "</table>\n",
       "</div>"
      ],
      "text/plain": [
       "    speed  car_age  experience  risk\n",
       "0     172     22.0    8.104042    42\n",
       "1      94     17.0   10.567402    36\n",
       "2     186     12.0   14.819477    45\n",
       "3     151     10.0   10.567402    38\n",
       "4     100      6.0   16.455807    47\n",
       "5     182     15.0   10.567402    66\n",
       "6     154     12.0    4.750129    64\n",
       "7     167     28.0    8.004458    42\n",
       "8     196      5.0   10.567402    39\n",
       "9     179      1.0    1.657826    95\n",
       "10    183      8.0   10.567402    75\n",
       "11    210     21.0    8.726717    19\n",
       "12    132     12.0   16.042185    42\n",
       "13     81     12.0   19.558013    83\n",
       "14    167     12.0   11.120101    47"
      ]
     },
     "execution_count": 15,
     "metadata": {},
     "output_type": "execute_result"
    }
   ],
   "source": [
    "df"
   ]
  },
  {
   "cell_type": "code",
   "execution_count": null,
   "id": "44e1963a-af83-42c8-9062-4b9eea327f3c",
   "metadata": {},
   "outputs": [],
   "source": [
    "#Linear Regresssion\n",
    "reg = LinearRegression()\n"
   ]
  },
  {
   "cell_type": "code",
   "execution_count": null,
   "id": "2e3e3c22-2f1c-447d-a57e-43d3e0e7325f",
   "metadata": {},
   "outputs": [],
   "source": []
  }
 ],
 "metadata": {
  "kernelspec": {
   "display_name": "Python 3 (ipykernel)",
   "language": "python",
   "name": "python3"
  },
  "language_info": {
   "codemirror_mode": {
    "name": "ipython",
    "version": 3
   },
   "file_extension": ".py",
   "mimetype": "text/x-python",
   "name": "python",
   "nbconvert_exporter": "python",
   "pygments_lexer": "ipython3",
   "version": "3.12.6"
  }
 },
 "nbformat": 4,
 "nbformat_minor": 5
}
