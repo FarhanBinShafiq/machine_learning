{
 "cells": [
  {
   "cell_type": "code",
   "execution_count": 1,
   "id": "76b7d3e2-b1a0-4ee2-8485-e501cc53bf26",
   "metadata": {},
   "outputs": [],
   "source": [
    "## Ordinal Means ----> Main tain the order"
   ]
  },
  {
   "cell_type": "code",
   "execution_count": 7,
   "id": "ec8a5917-479f-4f4c-9190-27264fe2ab9f",
   "metadata": {},
   "outputs": [
    {
     "name": "stdout",
     "output_type": "stream",
     "text": [
      "[[1.]\n",
      " [0.]\n",
      " [2.]\n",
      " [3.]\n",
      " [1.]\n",
      " [0.]\n",
      " [2.]\n",
      " [3.]\n",
      " [1.]\n",
      " [0.]\n",
      " [2.]\n",
      " [3.]]\n"
     ]
    }
   ],
   "source": [
    "import pandas as pd \n",
    "from sklearn.preprocessing import OrdinalEncoder\n",
    "\n",
    "# Data: list of quality ratings\n",
    "data = [['good'], ['bad'], ['better'], ['best'], \n",
    "        ['good'], ['bad'], ['better'], ['best'], \n",
    "        ['good'], ['bad'], ['better'], ['best']]\n",
    "\n",
    "# Create DataFrame with column name 'quality'\n",
    "df = pd.DataFrame(data, columns=['quality'])\n",
    "\n",
    "# Define order of categories\n",
    "cate = ['bad', 'good', 'better', 'best']\n",
    "\n",
    "# Create encoder with ordered categories and transform data\n",
    "encoder = OrdinalEncoder(categories=[cate])\n",
    "encoded_data = encoder.fit_transform(df)\n",
    "\n",
    "# Output: numbers 0-3 based on order (bad=0, good=1, better=2, best=3)\n",
    "print(encoded_data)"
   ]
  },
  {
   "cell_type": "code",
   "execution_count": null,
   "id": "092d7709-ae29-41e8-8c67-16aef091ba83",
   "metadata": {},
   "outputs": [],
   "source": []
  }
 ],
 "metadata": {
  "kernelspec": {
   "display_name": "Python 3 (ipykernel)",
   "language": "python",
   "name": "python3"
  },
  "language_info": {
   "codemirror_mode": {
    "name": "ipython",
    "version": 3
   },
   "file_extension": ".py",
   "mimetype": "text/x-python",
   "name": "python",
   "nbconvert_exporter": "python",
   "pygments_lexer": "ipython3",
   "version": "3.13.2"
  }
 },
 "nbformat": 4,
 "nbformat_minor": 5
}
