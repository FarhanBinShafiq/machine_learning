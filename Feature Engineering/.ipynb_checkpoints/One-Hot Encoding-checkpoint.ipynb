{
 "cells": [
  {
   "cell_type": "code",
   "execution_count": null,
   "id": "287bc7d7-8ec0-4123-93a0-ec7923ba7775",
   "metadata": {},
   "outputs": [],
   "source": [
    "import pandas as pd"
   ]
  },
  {
   "cell_type": "code",
   "execution_count": null,
   "id": "bb7f76f7-9778-4d38-90af-0aac9f6e298e",
   "metadata": {},
   "outputs": [],
   "source": [
    "df={'categories':{'A','B','c','A','B','c','A','B','c','A','B','c','A','B','c','A','B','c','A','B','c',}}"
   ]
  }
 ],
 "metadata": {
  "kernelspec": {
   "display_name": "Python 3 (ipykernel)",
   "language": "python",
   "name": "python3"
  },
  "language_info": {
   "codemirror_mode": {
    "name": "ipython",
    "version": 3
   },
   "file_extension": ".py",
   "mimetype": "text/x-python",
   "name": "python",
   "nbconvert_exporter": "python",
   "pygments_lexer": "ipython3",
   "version": "3.12.6"
  }
 },
 "nbformat": 4,
 "nbformat_minor": 5
}
