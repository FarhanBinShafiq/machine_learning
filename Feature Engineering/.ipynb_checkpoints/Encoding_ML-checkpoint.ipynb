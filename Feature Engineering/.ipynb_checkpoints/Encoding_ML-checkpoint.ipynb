{
 "cells": [
  {
   "cell_type": "markdown",
   "id": "78b9d4b8-ab94-4d7a-bbd0-fe81369147cb",
   "metadata": {},
   "source": [
    "# Label Encoder\n"
   ]
  },
  {
   "cell_type": "code",
   "execution_count": 1,
   "id": "31e962d7-9823-4c4f-b226-32697c2d5d70",
   "metadata": {},
   "outputs": [],
   "source": [
    "\n",
    "instances=['classA','classB','classC','classD','classA','classB','classC','classD','classA','classB','classC','classD'] ## Full Data\n",
    "classes= ['classA','classB','classC','classD'] ## Uniques Data from instance\n"
   ]
  },
  {
   "cell_type": "code",
   "execution_count": 2,
   "id": "61fe65cf-9b22-4287-8a34-e99694a05454",
   "metadata": {},
   "outputs": [
    {
     "ename": "SyntaxError",
     "evalue": "invalid syntax (3309999616.py, line 4)",
     "output_type": "error",
     "traceback": [
      "\u001b[1;36m  Cell \u001b[1;32mIn[2], line 4\u001b[1;36m\u001b[0m\n\u001b[1;33m    print('Encoded Labels':,encoded_labels)\u001b[0m\n\u001b[1;37m                          ^\u001b[0m\n\u001b[1;31mSyntaxError\u001b[0m\u001b[1;31m:\u001b[0m invalid syntax\n"
     ]
    }
   ],
   "source": [
    "label_to_int={label:index for index, label in enumerate(classes)}\n",
    "encoded_labels = [label_to_int[label] for label in instances]\n",
    "\n",
    "print('Encoded Labels :',encoded_labels)"
   ]
  },
  {
   "cell_type": "code",
   "execution_count": null,
   "id": "bd4ddd5f-26aa-46dc-ad70-8ae312ccb2dc",
   "metadata": {},
   "outputs": [],
   "source": []
  }
 ],
 "metadata": {
  "kernelspec": {
   "display_name": "Python 3 (ipykernel)",
   "language": "python",
   "name": "python3"
  },
  "language_info": {
   "codemirror_mode": {
    "name": "ipython",
    "version": 3
   },
   "file_extension": ".py",
   "mimetype": "text/x-python",
   "name": "python",
   "nbconvert_exporter": "python",
   "pygments_lexer": "ipython3",
   "version": "3.12.6"
  }
 },
 "nbformat": 4,
 "nbformat_minor": 5
}
