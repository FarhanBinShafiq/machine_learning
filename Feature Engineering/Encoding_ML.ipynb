{
 "cells": [
  {
   "cell_type": "markdown",
   "id": "78b9d4b8-ab94-4d7a-bbd0-fe81369147cb",
   "metadata": {},
   "source": [
    "# Label Encoder\n"
   ]
  },
  {
   "cell_type": "code",
   "execution_count": 1,
   "id": "31e962d7-9823-4c4f-b226-32697c2d5d70",
   "metadata": {},
   "outputs": [],
   "source": [
    "\n",
    "instances=['classA','classB','classC','classD','classA','classB','classC','classD','classA','classB','classC','classD'] ## Full Data\n",
    "classes= ['classA','classB','classC','classD'] ## Uniques Data from instance\n"
   ]
  },
  {
   "cell_type": "code",
   "execution_count": 4,
   "id": "61fe65cf-9b22-4287-8a34-e99694a05454",
   "metadata": {},
   "outputs": [
    {
     "name": "stdout",
     "output_type": "stream",
     "text": [
      "Encoded Labels : [0, 1, 2, 3, 0, 1, 2, 3, 0, 1, 2, 3]\n"
     ]
    }
   ],
   "source": [
    "\n",
    "#dictionary compression.\n",
    "label_to_int={label:index for index, label in enumerate(classes)}\n",
    "encoded_labels = [label_to_int[label] for label in instances]\n",
    "\n",
    "print('Encoded Labels :',encoded_labels)"
   ]
  },
  {
   "cell_type": "code",
   "execution_count": 6,
   "id": "bd4ddd5f-26aa-46dc-ad70-8ae312ccb2dc",
   "metadata": {},
   "outputs": [
    {
     "name": "stdout",
     "output_type": "stream",
     "text": [
      "Encoded Labels : [0, 1, 2, 3, 0, 1, 2, 3, 0, 1, 2, 3]\n",
      "decoded Labels : ['classA', 'classB', 'classC', 'classD', 'classA', 'classB', 'classC', 'classD', 'classA', 'classB', 'classC', 'classD']\n"
     ]
    }
   ],
   "source": [
    "int_to_label={index:label for label, index in label_to_int.items()}\n",
    "decoded_labels = [int_to_label[index] for index in encoded_labels]\n",
    "\n",
    "print('Encoded Labels :',encoded_labels)\n",
    "print('decoded Labels :',decoded_labels)"
   ]
  },
  {
   "cell_type": "markdown",
   "id": "b989aab0-90bc-4f58-aa78-246d85d43d2c",
   "metadata": {},
   "source": [
    "## SKLearn"
   ]
  },
  {
   "cell_type": "code",
   "execution_count": 8,
   "id": "f9d8eb27-78fa-4e5c-a512-e2c5ec7d79b4",
   "metadata": {},
   "outputs": [],
   "source": [
    "from sklearn.preprocessing import LabelEncoder"
   ]
  },
  {
   "cell_type": "code",
   "execution_count": 12,
   "id": "21618a87-b0cf-4f20-b9fe-7ae3c75ea297",
   "metadata": {},
   "outputs": [],
   "source": [
    "label_encoder = LabelEncoder()\n",
    "encoded_labels=label_encoder.fit_transform(instances)\n",
    "original_labels= label_encoder.inverse_transform(encoded_labels)\n",
    "\n"
   ]
  },
  {
   "cell_type": "code",
   "execution_count": 14,
   "id": "b1110df3-6113-4b9e-94fe-efb1ed8f2ea3",
   "metadata": {},
   "outputs": [
    {
     "data": {
      "text/plain": [
       "array([0, 1, 2, 3, 0, 1, 2, 3, 0, 1, 2, 3])"
      ]
     },
     "execution_count": 14,
     "metadata": {},
     "output_type": "execute_result"
    }
   ],
   "source": [
    "encoded_labels\n"
   ]
  },
  {
   "cell_type": "code",
   "execution_count": 15,
   "id": "b3545532-faa9-48e3-927e-f323c6265430",
   "metadata": {},
   "outputs": [
    {
     "data": {
      "text/plain": [
       "array(['classA', 'classB', 'classC', 'classD', 'classA', 'classB',\n",
       "       'classC', 'classD', 'classA', 'classB', 'classC', 'classD'],\n",
       "      dtype='<U6')"
      ]
     },
     "execution_count": 15,
     "metadata": {},
     "output_type": "execute_result"
    }
   ],
   "source": [
    "original_labels"
   ]
  },
  {
   "cell_type": "code",
   "execution_count": null,
   "id": "42ea8141-a62f-4532-ac45-bd20066c1a13",
   "metadata": {},
   "outputs": [],
   "source": []
  }
 ],
 "metadata": {
  "kernelspec": {
   "display_name": "Python 3 (ipykernel)",
   "language": "python",
   "name": "python3"
  },
  "language_info": {
   "codemirror_mode": {
    "name": "ipython",
    "version": 3
   },
   "file_extension": ".py",
   "mimetype": "text/x-python",
   "name": "python",
   "nbconvert_exporter": "python",
   "pygments_lexer": "ipython3",
   "version": "3.12.6"
  }
 },
 "nbformat": 4,
 "nbformat_minor": 5
}
