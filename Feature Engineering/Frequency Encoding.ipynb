{
 "cells": [
  {
   "cell_type": "raw",
   "id": "a549e550-a264-4549-93c0-89ecb07c5809",
   "metadata": {},
   "source": [
    "## Frequency Encoding is a way to turn categories (like \"Red,\" \"Blue,\" \"Green\") into numbers based on how often they appear in your data. Instead of giving each category a random number or a binary code, you use its frequency (how many times it shows up). This can help a model understand which categories are common or rare."
   ]
  },
  {
   "cell_type": "code",
   "execution_count": 3,
   "id": "d6282950-4e88-4d3c-8910-8094fa2ba2ca",
   "metadata": {},
   "outputs": [
    {
     "name": "stdout",
     "output_type": "stream",
     "text": [
      "Original Data:\n",
      "   color\n",
      "0    Red\n",
      "1   Blue\n",
      "2    Red\n",
      "3  Green\n",
      "4   Blue\n",
      "5    Red\n",
      "6  Green\n",
      "7   Blue\n",
      "\n",
      "Frequencies:\n",
      "color\n",
      "Red      3\n",
      "Blue     3\n",
      "Green    2\n",
      "Name: count, dtype: int64\n",
      "\n",
      "Encoded Data:\n",
      "   color  color_encoded\n",
      "0    Red              3\n",
      "1   Blue              3\n",
      "2    Red              3\n",
      "3  Green              2\n",
      "4   Blue              3\n",
      "5    Red              3\n",
      "6  Green              2\n",
      "7   Blue              3\n"
     ]
    }
   ],
   "source": [
    "import pandas as pd\n",
    "\n",
    "# Step 1: Create data\n",
    "data = ['Red', 'Blue', 'Red', 'Green', 'Blue', 'Red', 'Green', 'Blue']\n",
    "df = pd.DataFrame(data, columns=['color'])\n",
    "print(\"Original Data:\")\n",
    "print(df)\n",
    "\n",
    "# Step 2: Calculate frequencies\n",
    "freq = df['color'].value_counts()\n",
    "print(\"\\nFrequencies:\")\n",
    "print(freq)\n",
    "\n",
    "# Step 3: Map frequencies to data\n",
    "df['color_encoded'] = df['color'].map(freq)\n",
    "print(\"\\nEncoded Data:\")\n",
    "print(df)"
   ]
  },
  {
   "cell_type": "markdown",
   "id": "acafb129-ae8e-460f-b283-e0e3fdbc6979",
   "metadata": {},
   "source": [
    "# Frequency:\n",
    "Definition: Frequency means how many times something appears in your data. In this code, it’s the count of each color."
   ]
  },
  {
   "cell_type": "markdown",
   "id": "14bd9c50-af92-4080-8c9c-679b4b0c3372",
   "metadata": {},
   "source": [
    "Encoded\n",
    "Definition: \"Encoded\" means converting the original data (like text) into a different form (usually numbers) that a machine learning model can use. In this case, we’re replacing each color with its frequency."
   ]
  },
  {
   "cell_type": "code",
   "execution_count": null,
   "id": "f5a5ba00-50d0-45e4-80e8-a9f8fc12172c",
   "metadata": {},
   "outputs": [],
   "source": []
  }
 ],
 "metadata": {
  "kernelspec": {
   "display_name": "Python 3 (ipykernel)",
   "language": "python",
   "name": "python3"
  },
  "language_info": {
   "codemirror_mode": {
    "name": "ipython",
    "version": 3
   },
   "file_extension": ".py",
   "mimetype": "text/x-python",
   "name": "python",
   "nbconvert_exporter": "python",
   "pygments_lexer": "ipython3",
   "version": "3.13.2"
  }
 },
 "nbformat": 4,
 "nbformat_minor": 5
}
