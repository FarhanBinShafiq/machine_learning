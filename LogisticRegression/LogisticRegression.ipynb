{
 "cells": [
  {
   "cell_type": "code",
   "execution_count": 1,
   "id": "44fa1a18-6041-4fd9-a2b0-45a9e7555dbc",
   "metadata": {},
   "outputs": [
    {
     "name": "stdout",
     "output_type": "stream",
     "text": [
      "Prediction for price 5: 1\n",
      "Probability: [0.49999572 0.50000428]\n"
     ]
    }
   ],
   "source": [
    "# Import tools\n",
    "from sklearn.linear_model import LogisticRegression  # Logistic Regression tool\n",
    "import numpy as np                                   # For numbers and lists\n",
    "\n",
    "# Step 1: Create simple data\n",
    "X = np.array([[2], [4], [6], [8]])  # Prices (one column)\n",
    "y = np.array([0, 0, 1, 1])          # Sold or not (0 = no, 1 = yes)\n",
    "\n",
    "# Step 2: Make and train the model\n",
    "model = LogisticRegression()         # Create the model\n",
    "model.fit(X, y)                      # Teach it with data\n",
    "\n",
    "# Step 3: Predict for a new price\n",
    "new_price = np.array([[5]])          # New price to test\n",
    "prediction = model.predict(new_price)  # Guess: 0 or 1\n",
    "probability = model.predict_proba(new_price)  # Probability (e.g., [0.4, 0.6])\n",
    "\n",
    "# Step 4: Show results\n",
    "print(f\"Prediction for price 5: {prediction[0]}\")  # 0 or 1\n",
    "print(f\"Probability: {probability[0]}\")           # Chance of 0 and 1"
   ]
  },
  {
   "cell_type": "code",
   "execution_count": 2,
   "id": "b4faab6e-b060-4e7e-8cbe-79fd37d8ed29",
   "metadata": {},
   "outputs": [
    {
     "name": "stdout",
     "output_type": "stream",
     "text": [
      "Predictions: [0 1]\n",
      "Actual: [0 0]\n"
     ]
    }
   ],
   "source": [
    "# Import tools\n",
    "from sklearn.linear_model import LogisticRegression\n",
    "from sklearn.model_selection import train_test_split\n",
    "import numpy as np\n",
    "\n",
    "# Data: Price and Weight -> Sold or Not\n",
    "X = np.array([[2, 1], [4, 2], [6, 3], [8, 4], [3, 2], [5, 3]])  # Two columns: price, weight\n",
    "y = np.array([0, 0, 1, 1, 0, 1])  # Sold or not\n",
    "\n",
    "# Split into train and test\n",
    "X_train, X_test, y_train, y_test = train_test_split(X, y, test_size=0.3, random_state=42)\n",
    "\n",
    "# Train model\n",
    "model = LogisticRegression()\n",
    "model.fit(X_train, y_train)\n",
    "\n",
    "# Test model\n",
    "y_pred = model.predict(X_test)\n",
    "print(\"Predictions:\", y_pred)\n",
    "print(\"Actual:\", y_test)"
   ]
  },
  {
   "cell_type": "raw",
   "id": "92bad572-4e06-4f6a-bd05-004d69d20aae",
   "metadata": {},
   "source": [
    "This code uses Logistic Regression to predict if a toy will sell (1) or not (0) based on two things: price and weight. It also splits the data into training and testing parts.\n",
    "\n",
    "# Import tools: We bring in LogisticRegression (prediction tool), train_test_split (to split data), and numpy (for numbers).\n",
    "X = np.array([[2, 1], [4, 2], ...]): X is a list with 6 toys. Each row has two numbers: price and weight (e.g., [2, 1] = price 2, weight 1).\n",
    "y = np.array([0, 0, 1, 1, 0, 1]): y shows if each toy sold (0 = no, 1 = yes).\n",
    "X_train, X_test, y_train, y_test = train_test_split(X, y, test_size=0.3, random_state=42): Splits data: 70% for training (to teach), 30% for testing (to check). random_state=42 keeps the split the same every time.\n",
    "model = LogisticRegression(): Creates a Logistic Regression model.\n",
    "model.fit(X_train, y_train): Teaches the model using the training data (prices, weights, and sales).\n",
    "y_pred = model.predict(X_test): Makes predictions (0 or 1) for the test data.\n",
    "print(\"Predictions:\", y_pred): Shows what the model guessed for the test data.\n",
    "print(\"Actual:\", y_test): Shows the real answers to compare."
   ]
  },
  {
   "cell_type": "markdown",
   "id": "0e9a763f-15f5-440d-b0ac-3dc29f6dbfef",
   "metadata": {},
   "source": [
    "# Binary Logistic Regression\n",
    "\n",
    "## English: This is the simplest type. It predicts between two options (e.g., yes/no, 0/1). It’s used when your answer has only two possible categories.\n",
    "\n",
    "### Predict if a toy sells (1) or not (0) based on price."
   ]
  },
  {
   "cell_type": "code",
   "execution_count": 3,
   "id": "32774a8e-2c2e-4efd-a84d-26475ce9c737",
   "metadata": {},
   "outputs": [
    {
     "name": "stdout",
     "output_type": "stream",
     "text": [
      "Prediction for price 5: 1\n",
      "Probability: [0.49999572 0.50000428]\n"
     ]
    }
   ],
   "source": [
    "\n",
    "# Import tools\n",
    "from sklearn.linear_model import LogisticRegression\n",
    "import numpy as np\n",
    "\n",
    "# Data: Price -> Sold or Not\n",
    "X = np.array([[2], [4], [6], [8]])  # Prices\n",
    "y = np.array([0, 0, 1, 1])          # 0 = not sold, 1 = sold\n",
    "\n",
    "# Create and train model\n",
    "model = LogisticRegression()\n",
    "model.fit(X, y)\n",
    "\n",
    "# Predict for new price\n",
    "new_price = np.array([[5]])\n",
    "prediction = model.predict(new_price)\n",
    "probability = model.predict_proba(new_price)\n",
    "\n",
    "# Show results\n",
    "print(f\"Prediction for price 5: {prediction[0]}\")  # 0 or 1\n",
    "print(f\"Probability: {probability[0]}\")           # [chance of 0, chance of 1]"
   ]
  },
  {
   "cell_type": "markdown",
   "id": "595eb281-98f6-4b7e-95da-4d956424eeed",
   "metadata": {},
   "source": [
    "# Multinomial Logistic Regression\n",
    "#### English: This type predicts between more than two categories (e.g., cat/dog/bird). It’s used when your answer has multiple options, and they don’t have an order.\n",
    "## Predict if an animal is a cat (0), dog (1), or bird (2) based on weight.\n"
   ]
  },
  {
   "cell_type": "code",
   "execution_count": 4,
   "id": "f0a6e76f-22f2-4e2d-b22a-1bb08edecf9e",
   "metadata": {},
   "outputs": [
    {
     "name": "stdout",
     "output_type": "stream",
     "text": [
      "Prediction for weight 3.5: 1\n",
      "Probability: [0.23735056 0.52529966 0.23734978]\n"
     ]
    },
    {
     "name": "stderr",
     "output_type": "stream",
     "text": [
      "C:\\Users\\New User\\AppData\\Local\\Programs\\Python\\Python312\\Lib\\site-packages\\sklearn\\linear_model\\_logistic.py:1247: FutureWarning: 'multi_class' was deprecated in version 1.5 and will be removed in 1.7. From then on, it will always use 'multinomial'. Leave it to its default value to avoid this warning.\n",
      "  warnings.warn(\n"
     ]
    }
   ],
   "source": [
    "# Import tools\n",
    "from sklearn.linear_model import LogisticRegression\n",
    "import numpy as np\n",
    "\n",
    "# Data: Weight -> Animal Type\n",
    "X = np.array([[1], [3], [5], [2], [4], [6]])  # Weights\n",
    "y = np.array([0, 1, 2, 0, 1, 2])              # 0 = cat, 1 = dog, 2 = bird\n",
    "\n",
    "# Create and train model (multinomial)\n",
    "model = LogisticRegression(multi_class='multinomial', solver='lbfgs')\n",
    "model.fit(X, y)\n",
    "\n",
    "# Predict for new weight\n",
    "new_weight = np.array([[3.5]])\n",
    "prediction = model.predict(new_weight)\n",
    "probability = model.predict_proba(new_weight)\n",
    "\n",
    "# Show results\n",
    "print(f\"Prediction for weight 3.5: {prediction[0]}\")  # 0, 1, or 2\n",
    "print(f\"Probability: {probability[0]}\")              # [chance of cat, dog, bird]"
   ]
  },
  {
   "cell_type": "code",
   "execution_count": 5,
   "id": "d81e9f9d-9565-4821-b9da-759206059033",
   "metadata": {},
   "outputs": [],
   "source": [
    "### Ordinal Logistic Regression\n",
    "##### English: This type predicts between ordered categories (e.g., low/medium/high). It’s used when the options have a natural order or ranking.\n",
    "### Predict satisfaction level (0 = low, 1 = medium, 2 = high) based on service time."
   ]
  },
  {
   "cell_type": "code",
   "execution_count": 6,
   "id": "b105ad43-6751-48bc-824c-5dd40e4a42fe",
   "metadata": {},
   "outputs": [
    {
     "name": "stdout",
     "output_type": "stream",
     "text": [
      "Prediction for time 3.5: 1\n"
     ]
    }
   ],
   "source": [
    "## Note: Scikit-learn doesn’t have a built-in ordinal logistic regression, so we’ll use a library called mord (install it with pip install mord).\n",
    "# ! pip install mord\n",
    " \n",
    "from mord import LogisticAT  # For ordinal logistic regression\n",
    "import numpy as np\n",
    "\n",
    "# Data: Service Time -> Satisfaction\n",
    "X = np.array([[1], [3], [5], [2], [4]])  # Service time (minutes)\n",
    "y = np.array([0, 1, 2, 0, 2])            # 0 = low, 1 = medium, 2 = high\n",
    "\n",
    "# Create and train model\n",
    "model = LogisticAT()  # AT = All Thresholds (for ordinal)\n",
    "model.fit(X, y)\n",
    "\n",
    "# Predict for new time\n",
    "new_time = np.array([[3.5]])\n",
    "prediction = model.predict(new_time)\n",
    "\n",
    "# Show result\n",
    "print(f\"Prediction for time 3.5: {prediction[0]}\")  # 0, 1, or 2"
   ]
  },
  {
   "cell_type": "code",
   "execution_count": 7,
   "id": "a75f08b3-d945-45f0-9c7c-0468e4aa528d",
   "metadata": {},
   "outputs": [
    {
     "name": "stdout",
     "output_type": "stream",
     "text": [
      "Score: -2, Probability: 0.12\n",
      "Score: 0, Probability: 0.50\n",
      "Score: 2, Probability: 0.88\n",
      "Score: 5, Probability: 0.99\n",
      "Score: -5, Probability: 0.01\n"
     ]
    }
   ],
   "source": [
    "# Sigmoid function\n",
    "\n",
    "import numpy as np  # For math stuff\n",
    "\n",
    "# Sigmoid function\n",
    "def sigmoid(x):\n",
    "    return 1 / (1 + np.exp(-x))  # Turns any number into 0–1\n",
    "\n",
    "# Try some scores\n",
    "scores = [-2, 0, 2, 5, -5]  # Different scores\n",
    "for score in scores:\n",
    "    prob = sigmoid(score)  # Get probability\n",
    "    print(f\"Score: {score}, Probability: {prob:.2f}\")  # Show it nicely"
   ]
  },
  {
   "cell_type": "markdown",
   "id": "d079f1db-968b-4fe7-9b1d-465f58772a63",
   "metadata": {},
   "source": [
    "### Real-Life Example in Logistic Regression"
   ]
  },
  {
   "cell_type": "raw",
   "id": "b499afaf-3b4b-46f0-aaf0-ad96d5b7a5e0",
   "metadata": {},
   "source": [
    "\n",
    "####### Imagine predicting if a student passes (1) or fails (0) based on study hours:\n",
    "\n",
    "-Hours = 3 → Score = 1 (made-up formula).\n",
    "-Sigmoid(1) ≈ 0.73 (73% chance of passing).\n",
    "-Since 0.73 > 0.5, it predicts \"pass\" (1)."
   ]
  },
  {
   "cell_type": "code",
   "execution_count": 10,
   "id": "e269bbb2-20ad-4b0b-8223-aa1e3027844c",
   "metadata": {},
   "outputs": [
    {
     "name": "stdout",
     "output_type": "stream",
     "text": [
      "Prediction for  hours: 1\n",
      "Probability: [9.24581279e-07 9.99999075e-01]\n"
     ]
    }
   ],
   "source": [
    "from sklearn.linear_model import LogisticRegression\n",
    "import numpy as np\n",
    "\n",
    "# Data: Study hours -> Pass/Fail\n",
    "X = np.array([[1], [2], [3], [4]])  # Hours studied\n",
    "y = np.array([0, 0, 1, 1])          # 0 = fail, 1 = pass\n",
    "\n",
    "# Train model\n",
    "model = LogisticRegression()\n",
    "model.fit(X, y)\n",
    "\n",
    "# Predict for 3 hours\n",
    "new_hours = np.array([[17]])\n",
    "prediction = model.predict(new_hours)\n",
    "probability = model.predict_proba(new_hours)\n",
    "\n",
    "print(f\"Prediction for  hours: {prediction[0]}\")  # 0 or 1\n",
    "print(f\"Probability: {probability[0]}\")           # [fail, pass]"
   ]
  },
  {
   "cell_type": "code",
   "execution_count": null,
   "id": "afe1660d-ed6e-4ad1-9940-d05e05258ff1",
   "metadata": {},
   "outputs": [],
   "source": []
  }
 ],
 "metadata": {
  "kernelspec": {
   "display_name": "Python 3 (ipykernel)",
   "language": "python",
   "name": "python3"
  },
  "language_info": {
   "codemirror_mode": {
    "name": "ipython",
    "version": 3
   },
   "file_extension": ".py",
   "mimetype": "text/x-python",
   "name": "python",
   "nbconvert_exporter": "python",
   "pygments_lexer": "ipython3",
   "version": "3.12.6"
  }
 },
 "nbformat": 4,
 "nbformat_minor": 5
}
