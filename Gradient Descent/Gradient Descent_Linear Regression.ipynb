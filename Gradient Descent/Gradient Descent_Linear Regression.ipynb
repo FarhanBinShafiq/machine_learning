{
 "cells": [
  {
   "cell_type": "code",
   "execution_count": 1,
   "id": "254e8e20-6b9a-4bdf-8029-9bab9e7a6353",
   "metadata": {},
   "outputs": [],
   "source": [
    "import pandas as pd\n",
    "import os\n",
    "import numpy as np\n",
    "import matplotlib.pyplot as plt"
   ]
  },
  {
   "cell_type": "code",
   "execution_count": 2,
   "id": "36e8944a-68ff-4501-89c6-f675d8cd9642",
   "metadata": {},
   "outputs": [
    {
     "data": {
      "text/plain": [
       "['.ipynb_checkpoints',\n",
       " 'Gradient Descent_Linear Regression.ipynb',\n",
       " 'home data.csv']"
      ]
     },
     "execution_count": 2,
     "metadata": {},
     "output_type": "execute_result"
    }
   ],
   "source": [
    "os.listdir()"
   ]
  },
  {
   "cell_type": "code",
   "execution_count": 3,
   "id": "4be4428a-2034-4a75-a746-cc3c4bf4d8b1",
   "metadata": {},
   "outputs": [
    {
     "data": {
      "text/html": [
       "<div>\n",
       "<style scoped>\n",
       "    .dataframe tbody tr th:only-of-type {\n",
       "        vertical-align: middle;\n",
       "    }\n",
       "\n",
       "    .dataframe tbody tr th {\n",
       "        vertical-align: top;\n",
       "    }\n",
       "\n",
       "    .dataframe thead th {\n",
       "        text-align: right;\n",
       "    }\n",
       "</style>\n",
       "<table border=\"1\" class=\"dataframe\">\n",
       "  <thead>\n",
       "    <tr style=\"text-align: right;\">\n",
       "      <th></th>\n",
       "      <th>x</th>\n",
       "      <th>y</th>\n",
       "    </tr>\n",
       "  </thead>\n",
       "  <tbody>\n",
       "    <tr>\n",
       "      <th>0</th>\n",
       "      <td>48.955889</td>\n",
       "      <td>60.723602</td>\n",
       "    </tr>\n",
       "    <tr>\n",
       "      <th>1</th>\n",
       "      <td>44.687196</td>\n",
       "      <td>82.892504</td>\n",
       "    </tr>\n",
       "    <tr>\n",
       "      <th>2</th>\n",
       "      <td>60.297327</td>\n",
       "      <td>97.379897</td>\n",
       "    </tr>\n",
       "    <tr>\n",
       "      <th>3</th>\n",
       "      <td>45.618644</td>\n",
       "      <td>48.847153</td>\n",
       "    </tr>\n",
       "    <tr>\n",
       "      <th>4</th>\n",
       "      <td>38.816818</td>\n",
       "      <td>56.877213</td>\n",
       "    </tr>\n",
       "  </tbody>\n",
       "</table>\n",
       "</div>"
      ],
      "text/plain": [
       "           x          y\n",
       "0  48.955889  60.723602\n",
       "1  44.687196  82.892504\n",
       "2  60.297327  97.379897\n",
       "3  45.618644  48.847153\n",
       "4  38.816818  56.877213"
      ]
     },
     "execution_count": 3,
     "metadata": {},
     "output_type": "execute_result"
    }
   ],
   "source": [
    "df=pd.read_csv('home data.csv')\n",
    "df.head(5)"
   ]
  },
  {
   "cell_type": "code",
   "execution_count": 4,
   "id": "9bc3d92a-5f6c-4a27-9bcb-b32942f87f55",
   "metadata": {},
   "outputs": [],
   "source": [
    "x = df['x']\n",
    "y = df['y']"
   ]
  },
  {
   "cell_type": "markdown",
   "id": "43f499cc-fe51-4b28-ad52-ed72ceb77cd3",
   "metadata": {},
   "source": [
    "Gradient Descent_Linear Regression"
   ]
  },
  {
   "cell_type": "code",
   "execution_count": 5,
   "id": "f8590bcc-23bb-46f6-afb3-d1463f1aac58",
   "metadata": {},
   "outputs": [
    {
     "name": "stdout",
     "output_type": "stream",
     "text": [
      "Slope (m): nan\n",
      "Intercept (c): nan\n"
     ]
    }
   ],
   "source": [
    "# Gradient Descent\n",
    "m = 0  # initial slope\n",
    "c = 0  # initial intercept\n",
    "Learning_rate = 0.001\n",
    "n = len(x)  # number of data points\n",
    "iterations = 1000\n",
    "\n",
    "for i in range(iterations):\n",
    "    y_pre = m * x + c  # predicted values\n",
    "    \n",
    "    # Calculate gradients\n",
    "    der_m = (-2/n) * sum(x * (y - y_pre))\n",
    "    der_c = (-2/n) * sum(y - y_pre)\n",
    "    \n",
    "    # Update parameters\n",
    "    m = m - Learning_rate * der_m\n",
    "    c = c - Learning_rate * der_c\n",
    "\n",
    "print(f\"Slope (m): {m}\")\n",
    "print(f\"Intercept (c): {c}\")"
   ]
  },
  {
   "cell_type": "code",
   "execution_count": 7,
   "id": "9818b948-d868-42ee-9d49-a62a96162bda",
   "metadata": {},
   "outputs": [
    {
     "name": "stdout",
     "output_type": "stream",
     "text": [
      "First few rows of data:\n",
      "           x          y\n",
      "0  48.955889  60.723602\n",
      "1  44.687196  82.892504\n",
      "2  60.297327  97.379897\n",
      "3  45.618644  48.847153\n",
      "4  38.816818  56.877213\n",
      "Checking for NaN values:\n",
      "x    0\n",
      "y    0\n",
      "dtype: int64\n",
      "Iteration 0: m=0.7424335285442665, c=0.01462989504957576\n",
      "Iteration 100: m=1.480925618628659, c=0.036380663612134725\n",
      "Iteration 200: m=1.4807832153082208, c=0.043643413082465346\n",
      "Iteration 300: m=1.4806409167503447, c=0.05090081952961354\n",
      "Iteration 400: m=1.4804987228779596, c=0.0581528868843078\n",
      "Iteration 500: m=1.4803566336140508, c=0.06539961907438492\n",
      "Iteration 600: m=1.4802146488816605, c=0.0726410200247922\n",
      "Iteration 700: m=1.4800727686038877, c=0.07987709365758919\n",
      "Iteration 800: m=1.4799309927038875, c=0.08710784389195037\n",
      "Iteration 900: m=1.4797893211048718, c=0.09433327464416685\n",
      "Slope (m): 1.4796491688881985\n",
      "Intercept (c): 0.10148121497503651\n",
      "Prediction for x = 50: 74.08393965938497\n"
     ]
    }
   ],
   "source": [
    "import pandas as pd\n",
    "import numpy as np\n",
    "\n",
    "# Load and check the data\n",
    "df = pd.read_csv('home data.csv')\n",
    "print(\"First few rows of data:\")\n",
    "print(df.head())\n",
    "print(\"Checking for NaN values:\")\n",
    "print(df.isna().sum())\n",
    "\n",
    "x = df['x']\n",
    "y = df['y']\n",
    "\n",
    "# Initial parameters\n",
    "m = 0\n",
    "c = 0\n",
    "Learning_rate = 0.0001  # Reduced learning rate to prevent divergence\n",
    "n = len(x)\n",
    "iterations = 1000\n",
    "\n",
    "# Gradient Descent with debugging\n",
    "for i in range(iterations):\n",
    "    y_pre = m * x + c\n",
    "    \n",
    "    # Check for NaN in predictions\n",
    "    if np.any(np.isnan(y_pre)):\n",
    "        print(f\"NaN detected in y_pre at iteration {i}\")\n",
    "        break\n",
    "    \n",
    "    # Calculate gradients\n",
    "    der_m = (-2/n) * sum(x * (y - y_pre))\n",
    "    der_c = (-2/n) * sum(y - y_pre)\n",
    "    \n",
    "    # Check gradients\n",
    "    if np.isnan(der_m) or np.isnan(der_c):\n",
    "        print(f\"NaN in gradients at iteration {i}: der_m={der_m}, der_c={der_c}\")\n",
    "        break\n",
    "    \n",
    "    # Update parameters\n",
    "    m = m - Learning_rate * der_m\n",
    "    c = c - Learning_rate * der_c\n",
    "    \n",
    "    # Print progress\n",
    "    if i % 100 == 0:\n",
    "        print(f\"Iteration {i}: m={m}, c={c}\")\n",
    "\n",
    "# Final results\n",
    "print(f\"Slope (m): {m}\")\n",
    "print(f\"Intercept (c): {c}\")\n",
    "\n",
    "# Test prediction\n",
    "test_x = 50\n",
    "predicted_y = m * test_x + c\n",
    "print(f\"Prediction for x = {test_x}: {predicted_y}\")"
   ]
  },
  {
   "cell_type": "code",
   "execution_count": 8,
   "id": "b7fe3ffa-90b8-42f9-abd7-8ea57ca340bb",
   "metadata": {},
   "outputs": [
    {
     "name": "stdin",
     "output_type": "stream",
     "text": [
      "Enter x 3\n"
     ]
    }
   ],
   "source": [
    "#make prediction\n",
    "\n",
    "x=float(input(\"Enter x\"))\n",
    "\n"
   ]
  },
  {
   "cell_type": "code",
   "execution_count": 9,
   "id": "dcf34621-89f4-4ce7-8ddb-a3f88625e89f",
   "metadata": {},
   "outputs": [
    {
     "data": {
      "text/plain": [
       "4.540428721639632"
      ]
     },
     "execution_count": 9,
     "metadata": {},
     "output_type": "execute_result"
    }
   ],
   "source": [
    "y= 1.4796491688881985 *x +  0.10148121497503651\n",
    "y"
   ]
  },
  {
   "cell_type": "code",
   "execution_count": null,
   "id": "1da44a00-318b-4d46-a201-6891ac4d788b",
   "metadata": {},
   "outputs": [],
   "source": []
  }
 ],
 "metadata": {
  "kernelspec": {
   "display_name": "Python 3 (ipykernel)",
   "language": "python",
   "name": "python3"
  },
  "language_info": {
   "codemirror_mode": {
    "name": "ipython",
    "version": 3
   },
   "file_extension": ".py",
   "mimetype": "text/x-python",
   "name": "python",
   "nbconvert_exporter": "python",
   "pygments_lexer": "ipython3",
   "version": "3.12.6"
  }
 },
 "nbformat": 4,
 "nbformat_minor": 5
}
